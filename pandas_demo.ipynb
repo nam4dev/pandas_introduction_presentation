{
  "nbformat": 4,
  "nbformat_minor": 0,
  "metadata": {
    "colab": {
      "name": "pandas_demo.ipynb",
      "version": "0.3.2",
      "provenance": [],
      "collapsed_sections": [],
      "include_colab_link": true
    },
    "kernelspec": {
      "name": "python3",
      "display_name": "Python 3"
    }
  },
  "cells": [
    {
      "cell_type": "markdown",
      "metadata": {
        "id": "view-in-github",
        "colab_type": "text"
      },
      "source": [
        "<a href=\"https://colab.research.google.com/github/nam4dev/pandas_introduction_presentation/blob/master/pandas_demo.ipynb\" target=\"_parent\"><img src=\"https://colab.research.google.com/assets/colab-badge.svg\" alt=\"Open In Colab\"/></a>"
      ]
    },
    {
      "cell_type": "code",
      "metadata": {
        "id": "0l9chxHAKDe4",
        "colab_type": "code",
        "colab": {}
      },
      "source": [
        "# Import builtins\n",
        "import pathlib as path\n",
        "# Import requests library\n",
        "import requests\n",
        "# Import numpy library\n",
        "import numpy as np\n",
        "# Import pandas library\n",
        "import pandas as pd\n",
        "# Import matplotlib library\n",
        "import matplotlib.pyplot as plt\n"
      ],
      "execution_count": 0,
      "outputs": []
    },
    {
      "cell_type": "code",
      "metadata": {
        "id": "0Y3icZQjKW4h",
        "colab_type": "code",
        "colab": {}
      },
      "source": [
        "filename = './cell_phones.csv'\n",
        "cell_phones_file = path.Path(filename)\n",
        "\n",
        "if not cell_phones_file.exists():\n",
        "  # Getting datasets from https://www.gapminder.org/data/ in CSV format\n",
        "  response = requests.get(\n",
        "      'https://docs.google.com/spreadsheet/pub?'\n",
        "      'key=0AkBd6lyS3EmpdEhWLWtqNzljbWg4ZXV6M09JQXNGaUE&output=csv'\n",
        "  )\n",
        "  # Writing the response to the filesystem\n",
        "  cell_phones_file.open('w').write(response.text)"
      ],
      "execution_count": 0,
      "outputs": []
    },
    {
      "cell_type": "code",
      "metadata": {
        "id": "143-NPzYpUV8",
        "colab_type": "code",
        "colab": {}
      },
      "source": [
        "#@title Display data content { run: \"auto\", vertical-output: true }\n",
        "display = False #@param {type:\"boolean\"}\n",
        "\n",
        "if display:\n",
        "    # Read './cell_phones.csv'\n",
        "    print(cell_phones_file.open().read())"
      ],
      "execution_count": 0,
      "outputs": []
    },
    {
      "cell_type": "code",
      "metadata": {
        "id": "C3H8LwC-Hv9r",
        "colab_type": "code",
        "colab": {}
      },
      "source": [
        "# Setting Pandas general options\n",
        "pd.set_option('display.max_rows', 500)"
      ],
      "execution_count": 0,
      "outputs": []
    },
    {
      "cell_type": "code",
      "metadata": {
        "id": "gAaVeF-vtmQA",
        "colab_type": "code",
        "colab": {}
      },
      "source": [
        "# Loading the data into Pandas dataframe using \n",
        "# 'Mobile cellular subscriptions, total number' as index column\n",
        "df_cell_phones = pd.read_csv(\n",
        "    'cell_phones.csv', \n",
        "    index_col='Mobile cellular subscriptions, total number'\n",
        ")"
      ],
      "execution_count": 0,
      "outputs": []
    },
    {
      "cell_type": "code",
      "metadata": {
        "id": "MHusILi-L1n8",
        "colab_type": "code",
        "colab": {}
      },
      "source": [
        "#@title Row number { run: \"auto\", vertical-output: true }\n",
        "n_head = 5 #@param {type:\"slider\", min:1, max:100, step:1}\n",
        "\n",
        "# Print data frame head (first rows)\n",
        "df_cell_phones.head(n_head)"
      ],
      "execution_count": 0,
      "outputs": []
    },
    {
      "cell_type": "code",
      "metadata": {
        "id": "Tmi5ne-JsadZ",
        "colab_type": "code",
        "colab": {}
      },
      "source": [
        "#@title Row number { run: \"auto\", vertical-output: true }\n",
        "n_tail = 5 #@param {type:\"slider\", min:1, max:100, step:1}\n",
        "\n",
        "# Print data frame tail (last rows)\n",
        "df_cell_phones.tail(n_tail)"
      ],
      "execution_count": 0,
      "outputs": []
    },
    {
      "cell_type": "code",
      "metadata": {
        "id": "UUAj0WfxtWAj",
        "colab_type": "code",
        "colab": {}
      },
      "source": [
        "# Display data frame shape\n",
        "df_cell_phones.shape"
      ],
      "execution_count": 0,
      "outputs": []
    },
    {
      "cell_type": "code",
      "metadata": {
        "id": "QKGeA_icWt8w",
        "colab_type": "code",
        "colab": {}
      },
      "source": [
        "# Print data frame info\n",
        "df_cell_phones.info()"
      ],
      "execution_count": 0,
      "outputs": []
    },
    {
      "cell_type": "code",
      "metadata": {
        "id": "0svsTZ5Qt1x5",
        "colab_type": "code",
        "colab": {}
      },
      "source": [
        "# Display data frame statistics\n",
        "df_cell_phones.describe()"
      ],
      "execution_count": 0,
      "outputs": []
    },
    {
      "cell_type": "code",
      "metadata": {
        "id": "CNyJR8sv3LsV",
        "colab_type": "code",
        "colab": {}
      },
      "source": [
        "# Selecting the 2011 data for all countries (by position)\n",
        "df_cell_phones_2011 = df_cell_phones.iloc[:, 46]\n",
        "df_cell_phones_2011.head()"
      ],
      "execution_count": 0,
      "outputs": []
    },
    {
      "cell_type": "code",
      "metadata": {
        "id": "p_lHn10a2Bm3",
        "colab_type": "code",
        "colab": {}
      },
      "source": [
        "# Selecting the 2011 data for all countries (by index)\n",
        "df_cell_phones_2011 = df_cell_phones.loc[:, '2011']\n",
        "df_cell_phones_2011.head()"
      ],
      "execution_count": 0,
      "outputs": []
    },
    {
      "cell_type": "code",
      "metadata": {
        "id": "YRdqijaw3Y7V",
        "colab_type": "code",
        "colab": {}
      },
      "source": [
        "# Selecting the 2000ies data for all countries (by index)\n",
        "years_range = [str(year) for year in range(2000, 2012)]\n",
        "print('years_range =>', years_range)\n",
        "df_cell_phones_2000_to_2011 = df_cell_phones[years_range]\n",
        "df_cell_phones_2000_to_2011.head()"
      ],
      "execution_count": 0,
      "outputs": []
    },
    {
      "cell_type": "code",
      "metadata": {
        "id": "MYgkDAKgN5ZS",
        "colab_type": "code",
        "colab": {}
      },
      "source": [
        "# Renaming 'Mobile cellular subscriptions, total number' to 'Country'\n",
        "df_cell_phones.index.names = ['Country']\n",
        "# Print the head of the data frame\n",
        "df_cell_phones.head()"
      ],
      "execution_count": 0,
      "outputs": []
    },
    {
      "cell_type": "code",
      "metadata": {
        "id": "YYAJLWkNckx9",
        "colab_type": "code",
        "colab": {}
      },
      "source": [
        "## Clean data frame ##\n",
        "\n",
        "# Convert zero values to \"not a number\" entries\n",
        "new_df = df_cell_phones.replace(0, np.nan)\n",
        "# Drop all year where all cells are `np.nan` entries\n",
        "new_df = new_df.dropna(axis=1, how='all')\n",
        "# Drop all countries where all cells are `np.nan` entries\n",
        "new_df = new_df.dropna(how='all')\n",
        "# Fill all remaining `np.nan` entries with 0.0\n",
        "new_df.fillna(0, inplace=True)\n",
        "\n",
        "new_df.head()"
      ],
      "execution_count": 0,
      "outputs": []
    },
    {
      "cell_type": "code",
      "metadata": {
        "id": "sbI1vpdGnwKf",
        "colab_type": "code",
        "colab": {}
      },
      "source": [
        "all_countries = set(df_cell_phones.index)\n",
        "# Countries without known subscriptions\n",
        "countries = sorted([c.strip() for c in all_countries - set(new_df.index)])\n",
        "print('Countries without (known) subscriptions:')\n",
        "for c in countries:\n",
        "    print('\\t- {}'.format(c))\n"
      ],
      "execution_count": 0,
      "outputs": []
    },
    {
      "cell_type": "code",
      "metadata": {
        "id": "flxNtwW0Vl4D",
        "colab_type": "code",
        "colab": {}
      },
      "source": [
        "# Getting more than 500,000,000 subscriptions countries for year 2011\n",
        "# Create the boolean array: high_subscriptions\n",
        "year = '2011'\n",
        "subscriptions_amount = 500000000\n",
        "high_subscriptions = new_df[year] > subscriptions_amount\n",
        "\n",
        "# Filter the cell phones DataFrame with \n",
        "# the high_subscriptions array: high_subscriptions_df\n",
        "high_subscriptions_df = new_df[high_subscriptions]\n",
        "\n",
        "# Print the high_subscriptions_df DataFrame\n",
        "high_subscriptions_df"
      ],
      "execution_count": 0,
      "outputs": []
    },
    {
      "cell_type": "code",
      "metadata": {
        "id": "XfTFMWaYoDXY",
        "colab_type": "code",
        "colab": {}
      },
      "source": [
        "# Print countries\n",
        "print('Country with more than {} subscriptions '\n",
        "      'for {}:'.format(subscriptions_amount, year))\n",
        "for c in high_subscriptions_df.index:\n",
        "    print('\\t- {} => {}'.format(c, high_subscriptions_df.loc[c, year]))\n"
      ],
      "execution_count": 0,
      "outputs": []
    },
    {
      "cell_type": "code",
      "metadata": {
        "id": "iXxYxHFfzuY0",
        "colab_type": "code",
        "colab": {}
      },
      "source": [
        "# Sum up subscriptions by year\n",
        "# sum_by_years is of type `pandas.core.series.Series`\n",
        "sum_by_years = new_df.sum(axis=0) # or axis='rows'\n",
        "sum_by_years.head()"
      ],
      "execution_count": 0,
      "outputs": []
    },
    {
      "cell_type": "code",
      "metadata": {
        "id": "m5a7Hw4k2HQW",
        "colab_type": "code",
        "colab": {}
      },
      "source": [
        "# Sum up subscriptions by country\n",
        "# sum_by_coutries is of type `pandas.core.series.Series`\n",
        "sum_by_coutries = new_df.sum(axis=1)  # or axis='columns'\n",
        "sum_by_coutries.head()"
      ],
      "execution_count": 0,
      "outputs": []
    },
    {
      "cell_type": "code",
      "metadata": {
        "id": "p_DKu2mC5Dl1",
        "colab_type": "code",
        "colab": {}
      },
      "source": [
        "%matplotlib inline\n",
        "\n",
        "ymax = sum_by_years.max()\n",
        "print('Maximum subscriptions by years is' \n",
        "      ' {} => {}'.format(sum_by_years.idxmax(), ymax))\n",
        "sum_by_years.plot(color='blue')\n",
        "\n",
        "plt.xlabel('Year')\n",
        "plt.ylabel('Cellphone subscriptions')\n",
        "plt.title('Progression of cumulative subscriptions by year')\n",
        "\n",
        "plt.show()"
      ],
      "execution_count": 0,
      "outputs": []
    },
    {
      "cell_type": "code",
      "metadata": {
        "id": "m_lDpJ66CAfM",
        "colab_type": "code",
        "colab": {}
      },
      "source": [
        "# Compute min & max info (key, value)\n",
        "cmax, cmin = sum_by_coutries.max(), sum_by_coutries.min()\n",
        "smin = list(sum_by_coutries.index).index(sum_by_coutries.idxmin())\n",
        "smax = list(sum_by_coutries.index).index(sum_by_coutries.idxmax())\n",
        "\n",
        "print('Maximum subscriptions by countries is'\n",
        "      ' {} => {}'.format(sum_by_coutries.idxmax(), cmax))\n",
        "\n",
        "# Plot the series\n",
        "sum_by_coutries.plot.bar(figsize=(35, 5), color='orange')\n",
        "\n",
        "# Set X, Y lables & Plot title\n",
        "plt.xlabel('Country')\n",
        "plt.ylabel('Cellphone subscriptions')\n",
        "plt.title('Progression of cumulative subscriptions by countries')\n",
        "\n",
        "# Minimum Annotation\n",
        "plt.annotate(\n",
        "    'Minimum ({})'.format(cmin), \n",
        "    xy=(smin, cmin), \n",
        "    xytext=(smin, 3e9), \n",
        "    arrowprops=dict(facecolor='blue')\n",
        ")\n",
        "# Maximum Annotation\n",
        "plt.annotate(\n",
        "    'Maximum ({})'.format(cmax), \n",
        "    xy=(smax, cmax), \n",
        "    xytext=(smax + 5, cmax), \n",
        "    arrowprops=dict(facecolor='green')\n",
        ")\n",
        "\n",
        "# Mauritius annotation\n",
        "mauritius = 'Mauritius'\n",
        "cmauritius = sum_by_coutries[mauritius]\n",
        "smauritius = list(sum_by_coutries.index).index(mauritius)\n",
        "plt.annotate(\n",
        "    'Mauritius ({})'.format(cmauritius), \n",
        "    xy=(smauritius, cmauritius), \n",
        "    xytext=(smauritius, 2e9), \n",
        "    arrowprops=dict(facecolor='purple')\n",
        ")\n",
        "\n",
        "# Show the plot\n",
        "plt.show()"
      ],
      "execution_count": 0,
      "outputs": []
    },
    {
      "cell_type": "code",
      "metadata": {
        "id": "wBHj28fqk4t5",
        "colab_type": "code",
        "colab": {}
      },
      "source": [
        "# Saving transformed data (new_df) to JSON\n",
        "filename = './cell_phones.json'\n",
        "cell_phones_json = path.Path(filename)\n",
        "new_df.to_json(cell_phones_json.as_posix())\n",
        "\n",
        "cell_phones_json.open().read()"
      ],
      "execution_count": 0,
      "outputs": []
    }
  ]
}